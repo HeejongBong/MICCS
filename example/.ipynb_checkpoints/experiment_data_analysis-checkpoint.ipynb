{
 "cells": [
  {
   "cell_type": "code",
   "execution_count": 1,
   "metadata": {},
   "outputs": [],
   "source": [
    "import os, sys"
   ]
  },
  {
   "cell_type": "code",
   "execution_count": 2,
   "metadata": {},
   "outputs": [],
   "source": [
    "import numpy as np\n",
    "from scipy import stats"
   ]
  },
  {
   "cell_type": "code",
   "execution_count": 3,
   "metadata": {},
   "outputs": [],
   "source": [
    "import matplotlib.pyplot as plt"
   ]
  },
  {
   "cell_type": "code",
   "execution_count": 4,
   "metadata": {},
   "outputs": [],
   "source": [
    "import miccs.dynamiccs as dmx # MICCS on multidimensional time series data\n",
    "import miccs.inference as inf # inferential framework using STAR"
   ]
  },
  {
   "cell_type": "code",
   "execution_count": 131,
   "metadata": {},
   "outputs": [],
   "source": [
    "temp_dir = \"../temp/experiment_data_analysis\"\n",
    "if not os.path.exists(temp_dir):\n",
    "    os.makedirs(temp_dir)"
   ]
  },
  {
   "cell_type": "markdown",
   "metadata": {},
   "source": [
    "# load data"
   ]
  },
  {
   "cell_type": "code",
   "execution_count": 19,
   "metadata": {},
   "outputs": [],
   "source": [
    "spike_count_cortex = np.load(\"../data/spike_count_cortex.npy\")\n",
    "spike_count_striatum = np.load(\"../data/spike_count_striatum.npy\")"
   ]
  },
  {
   "cell_type": "code",
   "execution_count": 22,
   "metadata": {},
   "outputs": [],
   "source": [
    "spike_count_cortex = \\\n",
    "    spike_count_cortex[:,np.mean(spike_count_cortex,axis=(0,2))*25 > 10,:]\n",
    "spike_count_striatum = \\\n",
    "    spike_count_striatum[:,np.mean(spike_count_striatum,axis=(0,2))*25 > 30,:]"
   ]
  },
  {
   "cell_type": "code",
   "execution_count": 23,
   "metadata": {},
   "outputs": [
    {
     "data": {
      "text/plain": [
       "((50, 22, 147), (50, 20, 147))"
      ]
     },
     "execution_count": 23,
     "metadata": {},
     "output_type": "execute_result"
    }
   ],
   "source": [
    "spike_count_cortex.shape, spike_count_striatum.shape"
   ]
  },
  {
   "cell_type": "code",
   "execution_count": 24,
   "metadata": {},
   "outputs": [],
   "source": [
    "num_time = spike_count_cortex.shape[0]\n",
    "num_trial = spike_count_cortex.shape[2]"
   ]
  },
  {
   "cell_type": "markdown",
   "metadata": {},
   "source": [
    "# sparse estimate of canonical precision"
   ]
  },
  {
   "cell_type": "code",
   "execution_count": 25,
   "metadata": {},
   "outputs": [],
   "source": [
    "offset = 15\n",
    "lambda_glasso = 0.1\n",
    "lambda_ridge = 0"
   ]
  },
  {
   "cell_type": "code",
   "execution_count": 55,
   "metadata": {},
   "outputs": [],
   "source": [
    "converged, prec_est, corr_est, latent_est, weights_est =\\\n",
    "    dmx.fit([spike_count_cortex, spike_count_striatum], lambda_ridge, \n",
    "            lambda_glasso, offset, lambda_glasso, offset,\n",
    "            data_mode='count', verbose=True)"
   ]
  },
  {
   "cell_type": "code",
   "execution_count": 65,
   "metadata": {},
   "outputs": [
    {
     "data": {
      "image/png": "[encoded data removed]",
      "text/plain": [
       "<Figure size 576x432 with 2 Axes>"
      ]
     },
     "metadata": {
      "needs_background": "light"
     },
     "output_type": "display_data"
    }
   ],
   "source": [
    "plt.figure(figsize=(8,6))\n",
    "dmx.imshow(prec_est[:num_time, num_time:], \n",
    "           time=[-1,1], time_stim=0, identity=True)\n",
    "plt.title(\"sparse canonical precision\", loc='left')\n",
    "plt.xlabel(r\"motor cortex at $t$ sec.\"); plt.ylabel(r\"striatum at $s$ sec.\")\n",
    "plt.colorbar(); plt.show()"
   ]
  },
  {
   "cell_type": "markdown",
   "metadata": {},
   "source": [
    "# estimate variance of null distribution"
   ]
  },
  {
   "cell_type": "code",
   "execution_count": 34,
   "metadata": {},
   "outputs": [],
   "source": [
    "num_exp = 200"
   ]
  },
  {
   "cell_type": "code",
   "execution_count": 36,
   "metadata": {},
   "outputs": [],
   "source": [
    "precs_perm = np.zeros((num_exp, 2*num_time, 2*num_time))\n",
    "corrs_perm = np.zeros((num_exp, 2*num_time, 2*num_time))\n",
    "\n",
    "console = open('/dev/stdout', 'w')\n",
    "for iter_exp in range(num_exp):\n",
    "    console.write('%d-th permutation\\n'%(iter_exp+1))\n",
    "    console.flush()\n",
    "    \n",
    "    permuted_cortex =\\\n",
    "    spike_count_cortex[:,:,np.random.choice(num_trial, num_trial, True)]\n",
    "    permuted_striatum =\\\n",
    "    spike_count_striatum[:,:,np.random.choice(num_trial, num_trial, True)]\n",
    "\n",
    "    kwargs = dict()\n",
    "    if iter_exp != 0:\n",
    "        kwargs = {'weights_init': weights_perm, 'prec_init': prec_perm}\n",
    "        \n",
    "    converged, prec_perm, corr_perm, latent_perm, weights_perm =\\\n",
    "        dmx.fit([permuted_cortex, permuted_striatum], lambda_ridge,\n",
    "                lambda_glasso, offset, lambda_glasso, offset,\n",
    "                data_mode='count', **kwargs)\n",
    "    \n",
    "    precs_perm[iter_exp] = prec_perm\n",
    "    corrs_perm[iter_exp] = corr_perm"
   ]
  },
  {
   "cell_type": "code",
   "execution_count": 142,
   "metadata": {},
   "outputs": [],
   "source": [
    "# np.savez(\"%s/simulation_result.npz\"%temp_dir,\n",
    "#          prec = prec_est, corr = corr_est,\n",
    "#          precs_perm = precs_perm, corrs_perm = corrs_perm)"
   ]
  },
  {
   "cell_type": "markdown",
   "metadata": {},
   "source": [
    "# estimate p-values from estimated variance"
   ]
  },
  {
   "cell_type": "code",
   "execution_count": 143,
   "metadata": {},
   "outputs": [],
   "source": [
    "prec_est, corr_est, precs_perm, corrs_perm =\\\n",
    "dict(np.load(\"%s/simulation_result.npz\"%temp_dir)).values()"
   ]
  },
  {
   "cell_type": "code",
   "execution_count": 135,
   "metadata": {},
   "outputs": [],
   "source": [
    "dspr_est = 2*prec_est - prec_est @ corr_est @ prec_est"
   ]
  },
  {
   "cell_type": "code",
   "execution_count": 136,
   "metadata": {},
   "outputs": [],
   "source": [
    "dspr_perm = 2*precs_perm - precs_perm @ corrs_perm @ precs_perm\n",
    "dspr_perm_std = np.std(dspr_perm, 0)"
   ]
  },
  {
   "cell_type": "code",
   "execution_count": 137,
   "metadata": {},
   "outputs": [],
   "source": [
    "pvalue = 2 * stats.norm.cdf(-np.abs(dspr_est / dspr_perm_std))"
   ]
  },
  {
   "cell_type": "code",
   "execution_count": 138,
   "metadata": {},
   "outputs": [
    {
     "data": {
      "image/png": "[encoded data removed]",
      "text/plain": [
       "<Figure size 576x432 with 2 Axes>"
      ]
     },
     "metadata": {
      "needs_background": "light"
     },
     "output_type": "display_data"
    }
   ],
   "source": [
    "plt.figure(figsize=(8,6))\n",
    "dmx.imshow(pvalue[:num_time, num_time:], cmap='hot', vmin=0, vmax=0.01,\n",
    "           time=[-1,1], time_stim=0, identity=True)\n",
    "plt.title(\"pvalue for each entry of precision\", loc='left')\n",
    "plt.xlabel(r\"motor cortex at $t$ sec.\"); plt.ylabel(r\"striatum at $s$ sec.\")\n",
    "plt.colorbar(); plt.show()"
   ]
  },
  {
   "cell_type": "markdown",
   "metadata": {},
   "source": [
    "# discover functional connections by STAR"
   ]
  },
  {
   "cell_type": "code",
   "execution_count": 139,
   "metadata": {},
   "outputs": [],
   "source": [
    "R, fdp, score, mask = \\\n",
    "    inf.STAR_seq_step(pvalue[:num_time, num_time:], prop_carve = 0.05, \n",
    "                      alphas = 0.2, sigma=1, mux_init=-np.log(0.01))"
   ]
  },
  {
   "cell_type": "code",
   "execution_count": 140,
   "metadata": {},
   "outputs": [
    {
     "data": {
      "image/png": "[encoded data removed]",
      "text/plain": [
       "<Figure size 576x432 with 1 Axes>"
      ]
     },
     "metadata": {
      "needs_background": "light"
     },
     "output_type": "display_data"
    }
   ],
   "source": [
    "plt.figure(figsize=(8,6))\n",
    "dmx.imshow(mask[0], time=[-1,1], time_stim=0, identity=True)\n",
    "plt.title(\"discovered functional connections\", loc='left')\n",
    "plt.xlabel(r\"motor cortex at $t$ sec.\"); plt.ylabel(r\"striatum at $s$ sec.\")\n",
    "plt.show()"
   ]
  },
  {
   "cell_type": "code",
   "execution_count": null,
   "metadata": {},
   "outputs": [],
   "source": []
  }
 ],
 "metadata": {
  "kernelspec": {
   "display_name": "Python 3",
   "language": "python",
   "name": "python3"
  },
  "language_info": {
   "codemirror_mode": {
    "name": "ipython",
    "version": 3
   },
   "file_extension": ".py",
   "mimetype": "text/x-python",
   "name": "python",
   "nbconvert_exporter": "python",
   "pygments_lexer": "ipython3",
   "version": "3.6.8"
  }
 },
 "nbformat": 4,
 "nbformat_minor": 2
}
